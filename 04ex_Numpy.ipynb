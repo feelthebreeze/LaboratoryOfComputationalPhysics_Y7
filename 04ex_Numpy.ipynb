{
 "cells": [
  {
   "cell_type": "markdown",
   "metadata": {},
   "source": [
    "### Numpy basics"
   ]
  },
  {
   "cell_type": "code",
   "execution_count": 1,
   "metadata": {},
   "outputs": [],
   "source": [
    "import numpy as np"
   ]
  },
  {
   "cell_type": "markdown",
   "metadata": {},
   "source": [
    "1\\. Find the row, column and overall means for the following matrix:\n",
    "\n",
    "```python\n",
    "m = np.arange(12).reshape((3,4))\n",
    "```"
   ]
  },
  {
   "cell_type": "code",
   "execution_count": 35,
   "metadata": {},
   "outputs": [
    {
     "name": "stdout",
     "output_type": "stream",
     "text": [
      "means (rows, cols): ([np.float64(1.5), np.float64(5.5), np.float64(9.5)], [np.float64(4.0), np.float64(5.0), np.float64(6.0), np.float64(7.0)]) \n",
      " overall mean: 5.5\n"
     ]
    }
   ],
   "source": [
    "m = np.arange(12).reshape((3,4))\n",
    "\n",
    "r_means = [np.mean(m[i, :]) for i in range(len(m[:]))] \n",
    "c_means = [np.mean(m[:, i]) for i in range(len(m[0,:]))]\n",
    "print(\"means (rows, cols):\", (r_means, c_means), \"\\n\", \"overall mean:\", np.mean(m))"
   ]
  },
  {
   "cell_type": "markdown",
   "metadata": {},
   "source": [
    "2\\. Find the outer product of the following two vecotrs\n",
    "\n",
    "The outer product between two vectors is defined as following:\n",
    "\n",
    "   [[a_0*b_0  a_0*b_1 ... a_0*b_{N-1} ]\n",
    "\n",
    "   [a_1*b_0    .\n",
    "\n",
    "   [ ...          .\n",
    "   \n",
    "   [a_{M-1}*b_0            a_{M-1}*b_{N-1} ]]\n",
    "   \n",
    "\n",
    "```python\n",
    "u = np.array([1,3,5,7])\n",
    "v = np.array([2,4,6,8])\n",
    "```\n",
    "\n",
    "Do this in the following ways:\n",
    "\n",
    "   * Using the function outer in numpy --> \"numpy.outer(a, b, out=None)\" computes the outer product of two vectors \"a\" and \"\"b\".\n",
    "   * Using a nested for loop or list comprehension\n",
    "   * Using numpy broadcasting operatoins\n"
   ]
  },
  {
   "cell_type": "code",
   "execution_count": 41,
   "metadata": {},
   "outputs": [
    {
     "data": {
      "text/plain": [
       "array([[ True,  True,  True,  True],\n",
       "       [ True,  True,  True,  True],\n",
       "       [ True,  True,  True,  True],\n",
       "       [ True,  True,  True,  True]])"
      ]
     },
     "execution_count": 41,
     "metadata": {},
     "output_type": "execute_result"
    }
   ],
   "source": [
    "u = np.array([1,3,5,7])\n",
    "v = np.array([2,4,6,8])\n",
    "outer_np = np.outer(u,v)\n",
    "outer_l = np.array([\n",
    "    [u[0]*v[i] for i in range(len(u))], \n",
    "    [u[1]*v[i] for i in range(len(u))], \n",
    "    [u[2]*v[i] for i in range(len(u))], \n",
    "    [u[3]*v[i] for i in range(len(u))]\n",
    "])\n",
    "outer_np == outer_l"
   ]
  },
  {
   "cell_type": "code",
   "execution_count": 43,
   "metadata": {},
   "outputs": [
    {
     "data": {
      "text/plain": [
       "array([[ True,  True,  True,  True],\n",
       "       [ True,  True,  True,  True],\n",
       "       [ True,  True,  True,  True],\n",
       "       [ True,  True,  True,  True]])"
      ]
     },
     "execution_count": 43,
     "metadata": {},
     "output_type": "execute_result"
    }
   ],
   "source": [
    "row1 = list(u[0]*v)\n",
    "row2 = list(u[1]*v)\n",
    "row3 = list(u[2]*v)\n",
    "row4 = list(u[3]*v)\n",
    "outer_b = np.array([row1, row2, row3, row4])\n",
    "outer_np == outer_b"
   ]
  },
  {
   "cell_type": "markdown",
   "metadata": {},
   "source": [
    "3\\. Create a 10 by 6 matrix of random uniform numbers. Set all rows with any entry less than 0.1 to be zero\n",
    "\n",
    "Hint: Use the following numpy functions:\n",
    "- np.random.random --> The numpy.random module implements pseudo-random number generators with the ability to draw samples from a variety of probability distributions.\n",
    "- np.any --> numpy.any(a, axis=None, out=None, keepdims=<no value>, *, where=<no value>) It tests whether any array element along a given axis evaluates to True.\n",
    "\n",
    "Returns single boolean if axis is None\n",
    "- as well as Boolean indexing and the axis argument."
   ]
  },
  {
   "cell_type": "code",
   "execution_count": 161,
   "metadata": {},
   "outputs": [],
   "source": [
    "import numpy.random as npr\n",
    "npr.seed(123)"
   ]
  },
  {
   "cell_type": "code",
   "execution_count": 162,
   "metadata": {},
   "outputs": [
    {
     "name": "stdout",
     "output_type": "stream",
     "text": [
      "6 \n",
      " (6, 10) \n",
      "\n",
      " [[0.69646919 0.28613933 0.22685145 0.55131477 0.71946897 0.42310646\n",
      "  0.9807642  0.68482974 0.4809319  0.39211752]\n",
      " [0.34317802 0.72904971 0.43857224 0.0596779  0.39804426 0.73799541\n",
      "  0.18249173 0.17545176 0.53155137 0.53182759]\n",
      " [0.63440096 0.84943179 0.72445532 0.61102351 0.72244338 0.32295891\n",
      "  0.36178866 0.22826323 0.29371405 0.63097612]\n",
      " [0.09210494 0.43370117 0.43086276 0.4936851  0.42583029 0.31226122\n",
      "  0.42635131 0.89338916 0.94416002 0.50183668]\n",
      " [0.62395295 0.1156184  0.31728548 0.41482621 0.86630916 0.25045537\n",
      "  0.48303426 0.98555979 0.51948512 0.61289453]\n",
      " [0.12062867 0.8263408  0.60306013 0.54506801 0.34276383 0.30412079\n",
      "  0.41702221 0.68130077 0.87545684 0.51042234]]\n"
     ]
    }
   ],
   "source": [
    "ra = np.array([list(npr.random(10)) for _ in range(6)])\n",
    "print(len(ra), \"\\n\", ra.shape, \"\\n\\n\", ra)"
   ]
  },
  {
   "cell_type": "code",
   "execution_count": 163,
   "metadata": {},
   "outputs": [
    {
     "name": "stdout",
     "output_type": "stream",
     "text": [
      "[np.False_, np.True_, np.False_, np.True_, np.False_, np.False_]\n"
     ]
    },
    {
     "data": {
      "text/plain": [
       "False"
      ]
     },
     "execution_count": 163,
     "metadata": {},
     "output_type": "execute_result"
    }
   ],
   "source": [
    "any_rr = ra.any(axis=1, keepdims=True, where=ra<0.1)\n",
    "print(list(any_rr[:,0]))\n",
    "list(any_rr[:,0])[0] is np.True_"
   ]
  },
  {
   "cell_type": "code",
   "execution_count": 169,
   "metadata": {},
   "outputs": [
    {
     "name": "stdout",
     "output_type": "stream",
     "text": [
      "Row_1 with entry less than 1: False \n",
      "\n",
      "Row_1 visualization:\n",
      " [0.69646919 0.28613933 0.22685145 0.55131477 0.71946897 0.42310646\n",
      " 0.9807642  0.68482974 0.4809319  0.39211752] \n",
      "\n",
      "Row_2 with entry less than 1: True \n",
      "\n",
      "Row_2 visualization:\n",
      " [0. 0. 0. 0. 0. 0. 0. 0. 0. 0.] \n",
      "\n",
      "Row_3 with entry less than 1: False \n",
      "\n",
      "Row_3 visualization:\n",
      " [0.63440096 0.84943179 0.72445532 0.61102351 0.72244338 0.32295891\n",
      " 0.36178866 0.22826323 0.29371405 0.63097612] \n",
      "\n",
      "Row_4 with entry less than 1: True \n",
      "\n",
      "Row_4 visualization:\n",
      " [0. 0. 0. 0. 0. 0. 0. 0. 0. 0.] \n",
      "\n",
      "Row_5 with entry less than 1: False \n",
      "\n",
      "Row_5 visualization:\n",
      " [0.62395295 0.1156184  0.31728548 0.41482621 0.86630916 0.25045537\n",
      " 0.48303426 0.98555979 0.51948512 0.61289453] \n",
      "\n",
      "Row_6 with entry less than 1: False \n",
      "\n",
      "Row_6 visualization:\n",
      " [0.12062867 0.8263408  0.60306013 0.54506801 0.34276383 0.30412079\n",
      " 0.41702221 0.68130077 0.87545684 0.51042234] \n",
      "\n",
      "\n",
      "Filtered random matrix:\n",
      " [[0.69646919 0.28613933 0.22685145 0.55131477 0.71946897 0.42310646\n",
      "  0.9807642  0.68482974 0.4809319  0.39211752]\n",
      " [0.         0.         0.         0.         0.         0.\n",
      "  0.         0.         0.         0.        ]\n",
      " [0.63440096 0.84943179 0.72445532 0.61102351 0.72244338 0.32295891\n",
      "  0.36178866 0.22826323 0.29371405 0.63097612]\n",
      " [0.         0.         0.         0.         0.         0.\n",
      "  0.         0.         0.         0.        ]\n",
      " [0.62395295 0.1156184  0.31728548 0.41482621 0.86630916 0.25045537\n",
      "  0.48303426 0.98555979 0.51948512 0.61289453]\n",
      " [0.12062867 0.8263408  0.60306013 0.54506801 0.34276383 0.30412079\n",
      "  0.41702221 0.68130077 0.87545684 0.51042234]]\n"
     ]
    }
   ],
   "source": [
    "for i, j in enumerate(list(any_rr[:,0])):\n",
    "    print(f\"Row_{i+1} with entry less than 1:\", j, \"\\n\")\n",
    "    print(f\"Row_{i+1} visualization:\\n\", ra[i], \"\\n\")\n",
    "    if j is np.True_: \n",
    "        ra[i] = 0\n",
    "print(\"\\nFiltered random matrix:\\n\", ra)"
   ]
  },
  {
   "cell_type": "markdown",
   "metadata": {},
   "source": [
    "4\\. Use np.linspace to create an array of 100 numbers between 0 and 2π (includsive).\n",
    "\n",
    "  * Extract every 10th element using slice notation\n",
    "  * Reverse the array using slice notation\n",
    "  * Extract elements where the absolute difference between the sine and cosine functions evaluated at that element is less than 0.1\n",
    "  * Make a plot showing the sin and cos functions and indicate where they are close"
   ]
  },
  {
   "cell_type": "markdown",
   "metadata": {},
   "source": [
    "5\\. Create a matrix that shows the 10 by 10 multiplication table.\n",
    "\n",
    " * Find the trace of the matrix\n",
    " * Extract the anto-diagonal (this should be ```array([10, 18, 24, 28, 30, 30, 28, 24, 18, 10])```)\n",
    " * Extract the diagnoal offset by 1 upwards (this should be ```array([ 2,  6, 12, 20, 30, 42, 56, 72, 90])```)"
   ]
  },
  {
   "cell_type": "markdown",
   "metadata": {},
   "source": [
    "6\\. Use broadcasting to create a grid of distances\n",
    "\n",
    "Route 66 crosses the following cities in the US: Chicago, Springfield, Saint-Louis, Tulsa, Oklahoma City, Amarillo, Santa Fe, Albuquerque, Flagstaff, Los Angeles\n",
    "The corresponding positions in miles are: 0, 198, 303, 736, 871, 1175, 1475, 1544, 1913, 2448\n",
    "\n",
    "  * Construct a 2D grid of distances among each city along Route 66\n",
    "  * Convert that in km (those savages...)"
   ]
  },
  {
   "cell_type": "markdown",
   "metadata": {},
   "source": [
    "7\\. Prime numbers sieve: compute the prime numbers in the 0-N (N=99 to start with) range with a sieve (mask).\n",
    "  * Constract a shape (100,) boolean array, the mask\n",
    "  * Identify the multiples of each number starting from 2 and set accordingly the corresponding mask element\n",
    "  * Apply the mask to obtain an array of ordered prime numbers\n",
    "  * Check the performances (timeit); how does it scale with N?\n",
    "  * Implement the optimization suggested in the [sieve of Eratosthenes](https://en.wikipedia.org/wiki/Sieve_of_Eratosthenes)"
   ]
  },
  {
   "cell_type": "markdown",
   "metadata": {},
   "source": [
    "**N.B. the following exercises are meant to be solved only if you are familiar with the numpy random library. If not you can skip them (postponed for one of the next exercise sessions)**\n"
   ]
  },
  {
   "cell_type": "markdown",
   "metadata": {},
   "source": [
    "8\\. Diffusion using random walk\n",
    "\n",
    "Consider a simple random walk process: at each step in time, a walker jumps right or left (+1 or -1) with equal probability. The goal is to find the typical distance from the origin of a random walker after a given amount of time. \n",
    "To do that, let's simulate many walkers and create a 2D array with each walker as a raw and the actual time evolution as columns\n",
    "\n",
    "  * Take 1000 walkers and let them walk for 200 steps\n",
    "  * Use randint to create a 2D array of size walkers x steps with values -1 or 1\n",
    "  * Build the actual walking distances for each walker (i.e. another 2D array \"summing on each raw\")\n",
    "  * Take the square of that 2D array (elementwise)\n",
    "  * Compute the mean of the squared distances at each step (i.e. the mean along the columns)\n",
    "  * Plot the average distances (sqrt(distance\\*\\*2)) as a function of time (step)\n",
    "  \n",
    "Did you get what you expected?"
   ]
  },
  {
   "cell_type": "markdown",
   "metadata": {},
   "source": [
    "9\\. Analyze a data file \n",
    "  * Download the population of hares, lynxes and carrots at the beginning of the last century.\n",
    "    ```python\n",
    "    ! wget https://www.dropbox.com/s/3vigxoqayo389uc/populations.txt\n",
    "    ```\n",
    "\n",
    "  * Check the content by looking within the file\n",
    "  * Load the data (use an appropriate numpy method) into a 2D array\n",
    "  * Create arrays out of the columns, the arrays being (in order): *year*, *hares*, *lynxes*, *carrots* \n",
    "  * Plot the 3 populations over the years\n",
    "  * Compute the main statistical properties of the dataset (mean, std, correlations, etc.)\n",
    "  * Which species has the highest population each year?\n",
    "\n",
    "Do you feel there is some evident correlation here? [Studies](https://www.enr.gov.nt.ca/en/services/lynx/lynx-snowshoe-hare-cycle) tend to believe so."
   ]
  }
 ],
 "metadata": {
  "kernelspec": {
   "display_name": "lcp_env",
   "language": "python",
   "name": "python3"
  },
  "language_info": {
   "codemirror_mode": {
    "name": "ipython",
    "version": 3
   },
   "file_extension": ".py",
   "mimetype": "text/x-python",
   "name": "python",
   "nbconvert_exporter": "python",
   "pygments_lexer": "ipython3",
   "version": "3.9.20"
  }
 },
 "nbformat": 4,
 "nbformat_minor": 2
}
