{
 "cells": [
  {
   "cell_type": "markdown",
   "metadata": {},
   "source": [
    "1\\. Write a function that converts number representation, bin<->dec<->hex. (Clearly using the corresponding python built-in functions is not fair..)"
   ]
  },
  {
   "cell_type": "code",
   "execution_count": 43,
   "metadata": {},
   "outputs": [
    {
     "data": {
      "text/plain": [
       "'0b1100100'"
      ]
     },
     "execution_count": 43,
     "metadata": {},
     "output_type": "execute_result"
    }
   ],
   "source": [
    "def dec2bin(dec: int):\n",
    "    if dec == 0:\n",
    "        return '0b0'\n",
    "    r2 = []\n",
    "    while dec > 0:\n",
    "        r2.append(str(dec % 2))\n",
    "        #print(r2)\n",
    "        dec //= 2\n",
    "    return '0b'+''.join(list(reversed(r2)))\n",
    "dec2bin(100)\n"
   ]
  },
  {
   "cell_type": "code",
   "execution_count": 58,
   "metadata": {},
   "outputs": [
    {
     "data": {
      "text/plain": [
       "6"
      ]
     },
     "execution_count": 58,
     "metadata": {},
     "output_type": "execute_result"
    }
   ],
   "source": [
    "def bin2dec(bin: str):\n",
    "    binary = bin[2:]\n",
    "    return sum(int(b)*(2**(i)) for i, b in enumerate(reversed(binary)))\n",
    "\n",
    "bin2dec('0b110')"
   ]
  },
  {
   "cell_type": "code",
   "execution_count": 71,
   "metadata": {},
   "outputs": [
    {
     "data": {
      "text/plain": [
       "170733452"
      ]
     },
     "execution_count": 71,
     "metadata": {},
     "output_type": "execute_result"
    }
   ],
   "source": [
    "#      Decimal to hexadecimal\n",
    "\n",
    "def dec2hex(dec: int):\n",
    "    if dec == 0:\n",
    "        return '0x0'\n",
    "    r16 = []\n",
    "    hex_chars = '0123456789ABCDEF'\n",
    "    while dec > 0:\n",
    "        r16.append(hex_chars[dec%16])\n",
    "        dec //= 16\n",
    "    \n",
    "    return '0x'+''.join(map(str, list(reversed(r16))))\n",
    "\n",
    "def hex2dec(hex: str):\n",
    "    hex_chars = '0123456789ABCDEF'\n",
    "    return sum((16**i)*hex_chars.index(h.upper()) for i, h in enumerate(reversed(hex[2:])))\n",
    "\n",
    "hex2dec('0xa2d2f8c')"
   ]
  },
  {
   "cell_type": "code",
   "execution_count": 74,
   "metadata": {},
   "outputs": [
    {
     "name": "stdout",
     "output_type": "stream",
     "text": [
      "0x64 0b1010001011010010111110001100\n"
     ]
    }
   ],
   "source": [
    "#       Binary to hexadecimal\n",
    "\n",
    "def bin2hex(bin: str):\n",
    "    return dec2hex(bin2dec(bin=bin))\n",
    "\n",
    "def hex2bin(hex: str):\n",
    "    return dec2bin(hex2dec(hex))\n",
    "\n",
    "print(bin2hex('0b1100100'), hex2bin('0xa2d2f8c'))"
   ]
  },
  {
   "cell_type": "code",
   "execution_count": 65,
   "metadata": {},
   "outputs": [
    {
     "data": {
      "text/plain": [
       "100"
      ]
     },
     "execution_count": 65,
     "metadata": {},
     "output_type": "execute_result"
    }
   ],
   "source": [
    "def number_rep_converter(value: list, from_base: str, to_base: str):\n",
    "    if from_base == 'binary':\n",
    "        if to_base == 'decimal':\n",
    "            return bin2dec(value)\n",
    "        if to_base == 'hexadecimal':\n",
    "            return bin2hex(value)\n",
    "    elif from_base == 'decimal':\n",
    "        if to_base == 'binary':\n",
    "            return dec2bin(value)\n",
    "        if to_base == 'hexadecimal':\n",
    "            return dec2hex(value)\n",
    "    elif from_base == 'hexadecimal':\n",
    "        if to_base == 'decimal':\n",
    "            return hex2dec(value)\n",
    "        if to_base == 'binary':\n",
    "            return hex2bin(value)\n",
    "\n",
    "number_rep_converter(value='0b1100100', from_base='binary', to_base='decimal')"
   ]
  },
  {
   "cell_type": "markdown",
   "metadata": {},
   "source": [
    "2\\. Write a function that converts a 32 bit word into a single precision floating point (i.e. interprets the various bits as sign, mantissa and exponent)"
   ]
  },
  {
   "cell_type": "code",
   "execution_count": 100,
   "metadata": {},
   "outputs": [
    {
     "name": "stdout",
     "output_type": "stream",
     "text": [
      "['0', '0', '0', '0', '1', '0', '1', '0', '0', '0', '1', '0', '1', '1', '0', '1', '0', '0', '1', '0', '1', '1', '1', '1', '1', '0', '0', '0', '1', '1', '0', '0']\n",
      "32\n",
      "0\n",
      "['0', '0', '1', '1', '0', '0', '0', '1', '1', '1', '1', '1', '0', '1', '0', '0', '1', '0', '1', '1', '0', '1']\n"
     ]
    },
    {
     "data": {
      "text/plain": [
       "1.0720508479499261e-37"
      ]
     },
     "execution_count": 100,
     "metadata": {},
     "output_type": "execute_result"
    }
   ],
   "source": [
    "def f_point_converter(word: str, base: str, bias: int = 127):\n",
    "    binary = list(hex2bin(word))[2:] if base=='hexadecimal' else list(word)[2:]\n",
    "    while len(binary) < 32:\n",
    "        binary.append('0')\n",
    "    print(binary)\n",
    "    binary = list(reversed(binary))\n",
    "    print(len(binary))\n",
    "    s = int(binary[31])\n",
    "    print(s)\n",
    "    e = int(bin2dec(list(reversed(binary[23:30]))[2:]))\n",
    "    f = binary[:22]\n",
    "    print(f)\n",
    "    f_point = float(f\"1.{1+sum(int(m)**i for i, m in enumerate(f))}\")\n",
    "    return ((-1)**s)*f_point*(2**(e-bias))\n",
    "\n",
    "f_point_converter(word='0b00001010001011010010111110001100', base='binary')"
   ]
  },
  {
   "cell_type": "markdown",
   "metadata": {},
   "source": [
    "3\\. Write a program to determine the underflow and overflow limits (within a factor of 2) for python on your computer. \n",
    "\n",
    "**Tips**: define two variables inizialized to 1 and halve/double them enough time to exceed the under/over-flow limits  "
   ]
  },
  {
   "cell_type": "code",
   "execution_count": null,
   "metadata": {},
   "outputs": [],
   "source": []
  },
  {
   "cell_type": "markdown",
   "metadata": {},
   "source": [
    "4\\. Write a program to determine the machine precision\n",
    "\n",
    "**Tips**: define a new variable by adding a smaller and smaller value (proceeding similarly to prob. 2) to an original variable and check the point where the two are the same "
   ]
  },
  {
   "cell_type": "code",
   "execution_count": null,
   "metadata": {},
   "outputs": [],
   "source": []
  },
  {
   "cell_type": "markdown",
   "metadata": {},
   "source": [
    "5\\. Write a function that takes in input three parameters $a$, $b$ and $c$ and prints out the two solutions to the quadratic equation $ax^2+bx+c=0$ using the standard formula:\n",
    "$$\n",
    "x=\\frac{-b\\pm\\sqrt{b^2-4ac}}{2a}\n",
    "$$\n",
    "\n",
    "(a) use the program to compute the solution for $a=0.001$, $b=1000$ and $c=0.001$\n",
    "\n",
    "(b) re-express the standard solution formula by multiplying top and bottom by $-b\\mp\\sqrt{b^2-4ac}$ and again find the solution for $a=0.001$, $b=1000$ and $c=0.001$. How does it compare with what previously obtained? Why?\n",
    "\n",
    "(c) write a function that compute the roots of a quadratic equation accurately in all cases"
   ]
  },
  {
   "cell_type": "markdown",
   "metadata": {},
   "source": [
    "6\\. Write a program that implements the function $f(x)=x(x−1)$\n",
    "\n",
    "(a) Calculate the derivative of the function at the point $x = 1$ using the derivative definition:\n",
    "\n",
    "$$\n",
    "\\frac{{\\rm d}f}{{\\rm d}x} = \\lim_{\\delta\\to0} \\frac{f(x+\\delta)-f(x)}{\\delta}\n",
    "$$\n",
    "\n",
    "with $\\delta = 10^{−2}$. Calculate the true value of the same derivative analytically and compare with the answer your program gives. The two will not agree perfectly. Why not?\n",
    "\n",
    "(b) Repeat the calculation for $\\delta = 10^{−4}, 10^{−6}, 10^{−8}, 10^{−10}, 10^{−12}$ and $10^{−14}$. How does the accuracy scales with $\\delta$?"
   ]
  },
  {
   "cell_type": "markdown",
   "metadata": {},
   "source": [
    "7\\. Consider the integral of the semicircle of radius 1:\n",
    "$$\n",
    "I=\\int_{-1}^{1} \\sqrt(1-x^2) {\\rm d}x\n",
    "$$\n",
    "which it's known to be $I=\\frac{\\pi}{2}=1.57079632679...$.\n",
    "Alternatively we can use the Riemann definition of the integral:\n",
    "$$\n",
    "I=\\lim_{N\\to\\infty} \\sum_{k=1}^{N} h y_k \n",
    "$$\n",
    "\n",
    "with $h=2/N$ the width of each of the $N$ slices the domain is divided into and where\n",
    "$y_k$ is the value of the function at the $k-$th slice.\n",
    "\n",
    "(a) Write a programe to compute the integral with $N=100$. How does the result compares to the true value?\n",
    "\n",
    "(b) How much can $N$ be increased if the computation needs to be run in less than a second? What is the gain in running it for 1 minute? \n"
   ]
  }
 ],
 "metadata": {
  "kernelspec": {
   "display_name": "lcp_env",
   "language": "python",
   "name": "python3"
  },
  "language_info": {
   "codemirror_mode": {
    "name": "ipython",
    "version": 3
   },
   "file_extension": ".py",
   "mimetype": "text/x-python",
   "name": "python",
   "nbconvert_exporter": "python",
   "pygments_lexer": "ipython3",
   "version": "3.9.20"
  }
 },
 "nbformat": 4,
 "nbformat_minor": 2
}
