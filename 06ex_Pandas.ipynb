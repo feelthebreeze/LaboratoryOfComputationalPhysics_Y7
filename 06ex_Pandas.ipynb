{
 "cells": [
  {
   "cell_type": "markdown",
   "metadata": {},
   "source": [
    "## Pandas analysis\n",
    "\n",
    "This exercise consists in analyzing a dataset containg timing information from a series of Time-to-Digital-Converters (TDC) implemented in a couple of FPGAs. Each measurement (i.e. each row of the input file) consists of a flag that specifies the type of message ('HEAD', which in this case is always 1), two addresses of the TDC providing the signal ('FPGA' and 'TDC_CHANNEL'), and the timing information ('ORBIT_CNT', 'BX_COUNTER', and 'TDC_MEAS'). Each TDC count corresponds to 25/30 ns, whereas a unit of BX_COUNTER corresponds to 25 ns, and the ORBIT_CNT is increased every 'x' BX_COUNTER. This allows to store the time in a similar way to hours, minutes and seconds."
   ]
  },
  {
   "cell_type": "code",
<<<<<<< HEAD
   "execution_count": 1,
=======
<<<<<<< HEAD
   "execution_count": 1,
=======
   "execution_count": null,
>>>>>>> upstream/main
>>>>>>> main
   "metadata": {},
   "outputs": [],
   "source": [
    "# If you didn't download it yet, please get the relevant file now!\n",
<<<<<<< HEAD
    "#!wget https://www.dropbox.com/s/xvjzaxzz3ysphme/data_000637.txt -P ~/data/"
=======
<<<<<<< HEAD
    "#!wget https://www.dropbox.com/s/xvjzaxzz3ysphme/data_000637.txt -P ~/data/"
=======
    "!wget https://www.dropbox.com/s/xvjzaxzz3ysphme/data_000637.txt -P ~/data/"
>>>>>>> upstream/main
>>>>>>> main
   ]
  },
  {
   "cell_type": "markdown",
   "metadata": {},
   "source": [
    "1\\. Create a Pandas DataFrame reading N rows of the 'data_000637.txt' dataset. Choose N to be smaller than or equal to the maximum number of rows and larger that 10k.\n",
    "\n",
    "2\\. Find out the number of BX in a ORBIT (the value 'x').\n",
    "\n",
    "3\\. Find out how much the data taking lasted. You can either make an estimate based on the fraction of the measurements (rows) you read, or perform this check precisely by reading out the whole dataset.\n",
    "\n",
    "4\\. Create a new column with the absolute time in ns (as a combination of the other three columns with timing information).\n",
    "\n",
    "5\\. Replace the values (all 1) of the HEAD column randomly with 0 or 1.\n",
    "\n",
    "6\\. Create a new DataFrame that contains only the rows with HEAD=1.\n",
    "\n",
    "7\\. Make two occupancy plots (one for each FPGA), i.e. plot the number of counts per TDC channel\n",
    "\n",
    "8\\. Use the groupby method to find out the noisy channels, i.e. the TDC channels with most counts (say the top 3)\n",
    "\n",
    "9\\. Count the number of unique orbits. Count the number of unique orbits with at least one measurement from TDC_CHANNEL=139"
   ]
<<<<<<< HEAD
=======
<<<<<<< HEAD
>>>>>>> main
  },
  {
   "cell_type": "code",
   "execution_count": 2,
   "metadata": {},
   "outputs": [],
   "source": [
    "import pandas as pd\n",
    "import numpy as np\n",
    "import matplotlib.pyplot as plt"
   ]
  },
  {
   "cell_type": "code",
   "execution_count": null,
   "metadata": {},
   "outputs": [
    {
     "data": {
      "text/html": [
       "<div>\n",
       "<style scoped>\n",
       "    .dataframe tbody tr th:only-of-type {\n",
       "        vertical-align: middle;\n",
       "    }\n",
       "\n",
       "    .dataframe tbody tr th {\n",
       "        vertical-align: top;\n",
       "    }\n",
       "\n",
       "    .dataframe thead th {\n",
       "        text-align: right;\n",
       "    }\n",
       "</style>\n",
       "<table border=\"1\" class=\"dataframe\">\n",
       "  <thead>\n",
       "    <tr style=\"text-align: right;\">\n",
       "      <th></th>\n",
       "      <th>HEAD</th>\n",
       "      <th>FPGA</th>\n",
       "      <th>TDC_CHANNEL</th>\n",
       "      <th>ORBIT_CNT</th>\n",
       "      <th>BX_COUNTER</th>\n",
       "      <th>TDC_MEAS</th>\n",
       "    </tr>\n",
       "  </thead>\n",
       "  <tbody>\n",
       "    <tr>\n",
       "      <th>0</th>\n",
       "      <td>1</td>\n",
       "      <td>0</td>\n",
       "      <td>123</td>\n",
       "      <td>3869200167</td>\n",
       "      <td>2374</td>\n",
       "      <td>26</td>\n",
       "    </tr>\n",
       "    <tr>\n",
       "      <th>1</th>\n",
       "      <td>1</td>\n",
       "      <td>0</td>\n",
       "      <td>124</td>\n",
       "      <td>3869200167</td>\n",
       "      <td>2374</td>\n",
       "      <td>27</td>\n",
       "    </tr>\n",
       "    <tr>\n",
       "      <th>2</th>\n",
       "      <td>1</td>\n",
       "      <td>0</td>\n",
       "      <td>63</td>\n",
       "      <td>3869200167</td>\n",
       "      <td>2553</td>\n",
       "      <td>28</td>\n",
       "    </tr>\n",
       "    <tr>\n",
       "      <th>3</th>\n",
       "      <td>1</td>\n",
       "      <td>0</td>\n",
       "      <td>64</td>\n",
       "      <td>3869200167</td>\n",
       "      <td>2558</td>\n",
       "      <td>19</td>\n",
       "    </tr>\n",
       "    <tr>\n",
       "      <th>4</th>\n",
       "      <td>1</td>\n",
       "      <td>0</td>\n",
       "      <td>64</td>\n",
       "      <td>3869200167</td>\n",
       "      <td>2760</td>\n",
       "      <td>25</td>\n",
       "    </tr>\n",
       "    <tr>\n",
       "      <th>5</th>\n",
       "      <td>1</td>\n",
       "      <td>0</td>\n",
       "      <td>63</td>\n",
       "      <td>3869200167</td>\n",
       "      <td>2762</td>\n",
       "      <td>4</td>\n",
       "    </tr>\n",
       "    <tr>\n",
       "      <th>6</th>\n",
       "      <td>1</td>\n",
       "      <td>0</td>\n",
       "      <td>61</td>\n",
       "      <td>3869200167</td>\n",
       "      <td>2772</td>\n",
       "      <td>14</td>\n",
       "    </tr>\n",
       "    <tr>\n",
       "      <th>7</th>\n",
       "      <td>1</td>\n",
       "      <td>0</td>\n",
       "      <td>139</td>\n",
       "      <td>3869200167</td>\n",
       "      <td>2776</td>\n",
       "      <td>0</td>\n",
       "    </tr>\n",
       "    <tr>\n",
       "      <th>8</th>\n",
       "      <td>1</td>\n",
       "      <td>0</td>\n",
       "      <td>62</td>\n",
       "      <td>3869200167</td>\n",
       "      <td>2774</td>\n",
       "      <td>21</td>\n",
       "    </tr>\n",
       "    <tr>\n",
       "      <th>9</th>\n",
       "      <td>1</td>\n",
       "      <td>0</td>\n",
       "      <td>60</td>\n",
       "      <td>3869200167</td>\n",
       "      <td>2788</td>\n",
       "      <td>7</td>\n",
       "    </tr>\n",
       "  </tbody>\n",
       "</table>\n",
       "</div>"
      ],
      "text/plain": [
       "   HEAD  FPGA  TDC_CHANNEL   ORBIT_CNT  BX_COUNTER  TDC_MEAS\n",
       "0     1     0          123  3869200167        2374        26\n",
       "1     1     0          124  3869200167        2374        27\n",
       "2     1     0           63  3869200167        2553        28\n",
       "3     1     0           64  3869200167        2558        19\n",
       "4     1     0           64  3869200167        2760        25\n",
       "5     1     0           63  3869200167        2762         4\n",
       "6     1     0           61  3869200167        2772        14\n",
       "7     1     0          139  3869200167        2776         0\n",
       "8     1     0           62  3869200167        2774        21\n",
       "9     1     0           60  3869200167        2788         7"
      ]
     },
     "execution_count": 3,
     "metadata": {},
     "output_type": "execute_result"
    }
   ],
   "source": [
    "#   1.\n",
    "df = pd.read_csv('/Users/Filippo/data/data_000637.txt')\n",
    "df.head(10)"
   ]
  },
  {
   "cell_type": "code",
   "execution_count": null,
   "metadata": {},
   "outputs": [
    {
     "data": {
      "text/plain": [
       "np.int64(11004)"
      ]
     },
     "execution_count": 4,
     "metadata": {},
     "output_type": "execute_result"
    }
   ],
   "source": [
    "#   2.\n",
    "df['ORBIT_CNT'].max()-df['ORBIT_CNT'].min()"
   ]
  },
  {
   "cell_type": "code",
   "execution_count": 5,
   "metadata": {},
   "outputs": [
    {
     "data": {
      "text/plain": [
       "np.int64(3563)"
      ]
     },
     "execution_count": 5,
     "metadata": {},
     "output_type": "execute_result"
    }
   ],
   "source": [
    "df['BX_COUNTER'].max()"
   ]
  },
  {
   "cell_type": "code",
   "execution_count": 6,
   "metadata": {},
   "outputs": [
    {
     "data": {
      "text/plain": [
       "HEAD           354\n",
       "FPGA           354\n",
       "TDC_CHANNEL    354\n",
       "ORBIT_CNT      354\n",
       "BX_COUNTER     354\n",
       "TDC_MEAS       354\n",
       "dtype: int64"
      ]
     },
     "execution_count": 6,
     "metadata": {},
     "output_type": "execute_result"
    }
   ],
   "source": [
    "df[df['BX_COUNTER']==0].count()"
   ]
  },
  {
   "cell_type": "code",
   "execution_count": 7,
   "metadata": {},
   "outputs": [
    {
     "data": {
      "text/plain": [
       "count    1.310720e+06\n",
       "mean     1.781096e+03\n",
       "std      1.027795e+03\n",
       "min      0.000000e+00\n",
       "25%      8.930000e+02\n",
       "50%      1.778000e+03\n",
       "75%      2.670000e+03\n",
       "max      3.563000e+03\n",
       "Name: BX_COUNTER, dtype: float64"
      ]
     },
     "execution_count": 7,
     "metadata": {},
     "output_type": "execute_result"
    }
   ],
   "source": [
    "df['BX_COUNTER'].describe()"
   ]
  },
  {
   "cell_type": "code",
   "execution_count": 8,
   "metadata": {},
   "outputs": [
    {
     "data": {
      "text/plain": [
       "count    1.310720e+06\n",
       "mean     3.869206e+09\n",
       "std      3.183124e+03\n",
       "min      3.869200e+09\n",
       "25%      3.869203e+09\n",
       "50%      3.869207e+09\n",
       "75%      3.869209e+09\n",
       "max      3.869211e+09\n",
       "Name: ORBIT_CNT, dtype: float64"
      ]
     },
     "execution_count": 8,
     "metadata": {},
     "output_type": "execute_result"
    }
   ],
   "source": [
    "df['ORBIT_CNT'].describe()"
   ]
  },
  {
   "cell_type": "code",
   "execution_count": 9,
   "metadata": {},
   "outputs": [
    {
     "data": {
      "image/png": "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",
      "text/plain": [
       "<Figure size 1000x500 with 2 Axes>"
      ]
     },
     "metadata": {},
     "output_type": "display_data"
    }
   ],
   "source": [
    "# Create histograms for the two columns\n",
    "plt.figure(figsize=(10, 5))\n",
    "\n",
    "# Histogram for BX_COUNTER\n",
    "plt.subplot(1, 2, 1)  # 1 row, 2 columns, first plot\n",
    "plt.hist(df['BX_COUNTER'], bins=30, color='blue', alpha=0.7, edgecolor='black')\n",
    "plt.title('Histogram of BX_COUNTER')\n",
    "plt.xlabel('BX_COUNTER')\n",
    "plt.ylabel('Count')\n",
    "\n",
    "# Histogram for ORBIT_CNT\n",
    "plt.subplot(1, 2, 2)  # 1 row, 2 columns, second plot\n",
    "plt.hist(df['ORBIT_CNT'], bins=30, color='green', alpha=0.7, edgecolor='black')\n",
    "plt.title('Histogram of ORBIT_CNT')\n",
    "plt.xlabel('ORBIT_CNT')\n",
    "plt.ylabel('Count')\n",
    "\n",
    "# Show the plots\n",
    "plt.tight_layout()\n",
    "plt.show()"
   ]
  },
  {
   "cell_type": "code",
   "execution_count": 10,
   "metadata": {},
   "outputs": [],
   "source": [
    "#   we conclude that it is statistically plausible that, in order to find the number of 'BX' in an 'ORBIT' we can take argmax(BX)+1\n",
    "\n",
    "BX_in_ORBIT=df['BX_COUNTER'].max()+1"
   ]
  },
  {
   "cell_type": "code",
   "execution_count": 11,
   "metadata": {},
   "outputs": [
    {
     "data": {
      "text/plain": [
       "np.float64(980515771.6666666)"
      ]
     },
     "execution_count": 11,
     "metadata": {},
     "output_type": "execute_result"
    }
   ],
   "source": [
    "#   3\\. Find out how much the data taking lasted. \n",
    "# You can either make an estimate based on the fraction of the measurements (rows) you read, or perform this check precisely by reading out the whole dataset.\n",
    "#   BX = 25ns\n",
    "BX_0 = df['BX_COUNTER'][0]\n",
    "TDC_0 = df['TDC_MEAS'][0]\n",
    "Data_time = ((df['ORBIT_CNT'].max()-df['ORBIT_CNT'].min())*BX_in_ORBIT +(BX_0+(TDC_0/30))) *25\n",
    "Data_time"
   ]
  },
  {
   "cell_type": "code",
   "execution_count": 12,
   "metadata": {},
   "outputs": [
    {
     "data": {
      "text/html": [
       "<div>\n",
       "<style scoped>\n",
       "    .dataframe tbody tr th:only-of-type {\n",
       "        vertical-align: middle;\n",
       "    }\n",
       "\n",
       "    .dataframe tbody tr th {\n",
       "        vertical-align: top;\n",
       "    }\n",
       "\n",
       "    .dataframe thead th {\n",
       "        text-align: right;\n",
       "    }\n",
       "</style>\n",
       "<table border=\"1\" class=\"dataframe\">\n",
       "  <thead>\n",
       "    <tr style=\"text-align: right;\">\n",
       "      <th></th>\n",
       "      <th>HEAD</th>\n",
       "      <th>FPGA</th>\n",
       "      <th>TDC_CHANNEL</th>\n",
       "      <th>ORBIT_CNT</th>\n",
       "      <th>BX_COUNTER</th>\n",
       "      <th>TDC_MEAS</th>\n",
       "      <th>ABS_T_ns</th>\n",
       "    </tr>\n",
       "  </thead>\n",
       "  <tbody>\n",
       "    <tr>\n",
       "      <th>0</th>\n",
       "      <td>1</td>\n",
       "      <td>0</td>\n",
       "      <td>123</td>\n",
       "      <td>3869200167</td>\n",
       "      <td>2374</td>\n",
       "      <td>26</td>\n",
       "      <td>3.447457e+14</td>\n",
       "    </tr>\n",
       "    <tr>\n",
       "      <th>1</th>\n",
       "      <td>1</td>\n",
       "      <td>0</td>\n",
       "      <td>124</td>\n",
       "      <td>3869200167</td>\n",
       "      <td>2374</td>\n",
       "      <td>27</td>\n",
       "      <td>3.447457e+14</td>\n",
       "    </tr>\n",
       "    <tr>\n",
       "      <th>2</th>\n",
       "      <td>1</td>\n",
       "      <td>0</td>\n",
       "      <td>63</td>\n",
       "      <td>3869200167</td>\n",
       "      <td>2553</td>\n",
       "      <td>28</td>\n",
       "      <td>3.447457e+14</td>\n",
       "    </tr>\n",
       "    <tr>\n",
       "      <th>3</th>\n",
       "      <td>1</td>\n",
       "      <td>0</td>\n",
       "      <td>64</td>\n",
       "      <td>3869200167</td>\n",
       "      <td>2558</td>\n",
       "      <td>19</td>\n",
       "      <td>3.447457e+14</td>\n",
       "    </tr>\n",
       "    <tr>\n",
       "      <th>4</th>\n",
       "      <td>1</td>\n",
       "      <td>0</td>\n",
       "      <td>64</td>\n",
       "      <td>3869200167</td>\n",
       "      <td>2760</td>\n",
       "      <td>25</td>\n",
       "      <td>3.447457e+14</td>\n",
       "    </tr>\n",
       "    <tr>\n",
       "      <th>5</th>\n",
       "      <td>1</td>\n",
       "      <td>0</td>\n",
       "      <td>63</td>\n",
       "      <td>3869200167</td>\n",
       "      <td>2762</td>\n",
       "      <td>4</td>\n",
       "      <td>3.447457e+14</td>\n",
       "    </tr>\n",
       "    <tr>\n",
       "      <th>6</th>\n",
       "      <td>1</td>\n",
       "      <td>0</td>\n",
       "      <td>61</td>\n",
       "      <td>3869200167</td>\n",
       "      <td>2772</td>\n",
       "      <td>14</td>\n",
       "      <td>3.447457e+14</td>\n",
       "    </tr>\n",
       "    <tr>\n",
       "      <th>7</th>\n",
       "      <td>1</td>\n",
       "      <td>0</td>\n",
       "      <td>139</td>\n",
       "      <td>3869200167</td>\n",
       "      <td>2776</td>\n",
       "      <td>0</td>\n",
       "      <td>3.447457e+14</td>\n",
       "    </tr>\n",
       "    <tr>\n",
       "      <th>8</th>\n",
       "      <td>1</td>\n",
       "      <td>0</td>\n",
       "      <td>62</td>\n",
       "      <td>3869200167</td>\n",
       "      <td>2774</td>\n",
       "      <td>21</td>\n",
       "      <td>3.447457e+14</td>\n",
       "    </tr>\n",
       "    <tr>\n",
       "      <th>9</th>\n",
       "      <td>1</td>\n",
       "      <td>0</td>\n",
       "      <td>60</td>\n",
       "      <td>3869200167</td>\n",
       "      <td>2788</td>\n",
       "      <td>7</td>\n",
       "      <td>3.447457e+14</td>\n",
       "    </tr>\n",
       "  </tbody>\n",
       "</table>\n",
       "</div>"
      ],
      "text/plain": [
       "   HEAD  FPGA  TDC_CHANNEL   ORBIT_CNT  BX_COUNTER  TDC_MEAS      ABS_T_ns\n",
       "0     1     0          123  3869200167        2374        26  3.447457e+14\n",
       "1     1     0          124  3869200167        2374        27  3.447457e+14\n",
       "2     1     0           63  3869200167        2553        28  3.447457e+14\n",
       "3     1     0           64  3869200167        2558        19  3.447457e+14\n",
       "4     1     0           64  3869200167        2760        25  3.447457e+14\n",
       "5     1     0           63  3869200167        2762         4  3.447457e+14\n",
       "6     1     0           61  3869200167        2772        14  3.447457e+14\n",
       "7     1     0          139  3869200167        2776         0  3.447457e+14\n",
       "8     1     0           62  3869200167        2774        21  3.447457e+14\n",
       "9     1     0           60  3869200167        2788         7  3.447457e+14"
      ]
     },
     "execution_count": 12,
     "metadata": {},
     "output_type": "execute_result"
    }
   ],
   "source": [
    "#   4\\. Create a new column with the absolute time in ns (as a combination of the other three columns with timing information).\n",
    "\n",
    "df['ABS_T_ns'] = (df['ORBIT_CNT'] * BX_in_ORBIT + df['BX_COUNTER'] + df['TDC_MEAS']/30 )*25\n",
    "df.head(10)"
   ]
  },
  {
   "cell_type": "code",
   "execution_count": 13,
   "metadata": {},
   "outputs": [
    {
     "data": {
      "text/plain": [
       "count    1.310720e+06\n",
       "mean     4.999779e-01\n",
       "std      5.000002e-01\n",
       "min      0.000000e+00\n",
       "25%      0.000000e+00\n",
       "50%      0.000000e+00\n",
       "75%      1.000000e+00\n",
       "max      1.000000e+00\n",
       "Name: HEAD, dtype: float64"
      ]
     },
     "execution_count": 13,
     "metadata": {},
     "output_type": "execute_result"
    }
   ],
   "source": [
    "#   5\\. Replace the values (all 1) of the HEAD column randomly with 0 or 1.\n",
    "df['HEAD'] = np.random.randint(0,2, size=len(df))\n",
    "df['HEAD'].describe()"
   ]
  },
  {
   "cell_type": "code",
   "execution_count": 14,
   "metadata": {},
   "outputs": [
    {
     "data": {
      "text/html": [
       "<div>\n",
       "<style scoped>\n",
       "    .dataframe tbody tr th:only-of-type {\n",
       "        vertical-align: middle;\n",
       "    }\n",
       "\n",
       "    .dataframe tbody tr th {\n",
       "        vertical-align: top;\n",
       "    }\n",
       "\n",
       "    .dataframe thead th {\n",
       "        text-align: right;\n",
       "    }\n",
       "</style>\n",
       "<table border=\"1\" class=\"dataframe\">\n",
       "  <thead>\n",
       "    <tr style=\"text-align: right;\">\n",
       "      <th></th>\n",
       "      <th>HEAD</th>\n",
       "      <th>FPGA</th>\n",
       "      <th>TDC_CHANNEL</th>\n",
       "      <th>ORBIT_CNT</th>\n",
       "      <th>BX_COUNTER</th>\n",
       "      <th>TDC_MEAS</th>\n",
       "      <th>ABS_T_ns</th>\n",
       "    </tr>\n",
       "  </thead>\n",
       "  <tbody>\n",
       "    <tr>\n",
       "      <th>count</th>\n",
       "      <td>655331.0</td>\n",
       "      <td>655331.000000</td>\n",
       "      <td>655331.000000</td>\n",
       "      <td>6.553310e+05</td>\n",
       "      <td>655331.000000</td>\n",
       "      <td>655331.000000</td>\n",
       "      <td>6.553310e+05</td>\n",
       "    </tr>\n",
       "    <tr>\n",
       "      <th>mean</th>\n",
       "      <td>1.0</td>\n",
       "      <td>0.296041</td>\n",
       "      <td>55.791547</td>\n",
       "      <td>3.869206e+09</td>\n",
       "      <td>1782.417609</td>\n",
       "      <td>13.328960</td>\n",
       "      <td>3.447463e+14</td>\n",
       "    </tr>\n",
       "    <tr>\n",
       "      <th>std</th>\n",
       "      <td>0.0</td>\n",
       "      <td>0.456510</td>\n",
       "      <td>39.001351</td>\n",
       "      <td>3.183671e+03</td>\n",
       "      <td>1027.444444</td>\n",
       "      <td>9.201657</td>\n",
       "      <td>2.836649e+08</td>\n",
       "    </tr>\n",
       "    <tr>\n",
       "      <th>min</th>\n",
       "      <td>1.0</td>\n",
       "      <td>0.000000</td>\n",
       "      <td>1.000000</td>\n",
       "      <td>3.869200e+09</td>\n",
       "      <td>0.000000</td>\n",
       "      <td>0.000000</td>\n",
       "      <td>3.447457e+14</td>\n",
       "    </tr>\n",
       "    <tr>\n",
       "      <th>25%</th>\n",
       "      <td>1.0</td>\n",
       "      <td>0.000000</td>\n",
       "      <td>26.000000</td>\n",
       "      <td>3.869203e+09</td>\n",
       "      <td>896.000000</td>\n",
       "      <td>5.000000</td>\n",
       "      <td>3.447460e+14</td>\n",
       "    </tr>\n",
       "    <tr>\n",
       "      <th>50%</th>\n",
       "      <td>1.0</td>\n",
       "      <td>0.000000</td>\n",
       "      <td>57.000000</td>\n",
       "      <td>3.869207e+09</td>\n",
       "      <td>1780.000000</td>\n",
       "      <td>13.000000</td>\n",
       "      <td>3.447463e+14</td>\n",
       "    </tr>\n",
       "    <tr>\n",
       "      <th>75%</th>\n",
       "      <td>1.0</td>\n",
       "      <td>1.000000</td>\n",
       "      <td>64.000000</td>\n",
       "      <td>3.869209e+09</td>\n",
       "      <td>2671.000000</td>\n",
       "      <td>21.000000</td>\n",
       "      <td>3.447465e+14</td>\n",
       "    </tr>\n",
       "    <tr>\n",
       "      <th>max</th>\n",
       "      <td>1.0</td>\n",
       "      <td>1.000000</td>\n",
       "      <td>139.000000</td>\n",
       "      <td>3.869211e+09</td>\n",
       "      <td>3563.000000</td>\n",
       "      <td>29.000000</td>\n",
       "      <td>3.447467e+14</td>\n",
       "    </tr>\n",
       "  </tbody>\n",
       "</table>\n",
       "</div>"
      ],
      "text/plain": [
       "           HEAD           FPGA    TDC_CHANNEL     ORBIT_CNT     BX_COUNTER  \\\n",
       "count  655331.0  655331.000000  655331.000000  6.553310e+05  655331.000000   \n",
       "mean        1.0       0.296041      55.791547  3.869206e+09    1782.417609   \n",
       "std         0.0       0.456510      39.001351  3.183671e+03    1027.444444   \n",
       "min         1.0       0.000000       1.000000  3.869200e+09       0.000000   \n",
       "25%         1.0       0.000000      26.000000  3.869203e+09     896.000000   \n",
       "50%         1.0       0.000000      57.000000  3.869207e+09    1780.000000   \n",
       "75%         1.0       1.000000      64.000000  3.869209e+09    2671.000000   \n",
       "max         1.0       1.000000     139.000000  3.869211e+09    3563.000000   \n",
       "\n",
       "            TDC_MEAS      ABS_T_ns  \n",
       "count  655331.000000  6.553310e+05  \n",
       "mean       13.328960  3.447463e+14  \n",
       "std         9.201657  2.836649e+08  \n",
       "min         0.000000  3.447457e+14  \n",
       "25%         5.000000  3.447460e+14  \n",
       "50%        13.000000  3.447463e+14  \n",
       "75%        21.000000  3.447465e+14  \n",
       "max        29.000000  3.447467e+14  "
      ]
     },
     "execution_count": 14,
     "metadata": {},
     "output_type": "execute_result"
    }
   ],
   "source": [
    "#   6\\. Create a new DataFrame that contains only the rows with HEAD=1.\n",
    "\n",
    "df_one = df[df['HEAD']==1]\n",
    "df_one.describe()"
   ]
  },
  {
   "cell_type": "code",
   "execution_count": 15,
   "metadata": {},
   "outputs": [],
   "source": [
    "#   7\\. Make two occupancy plots (one for each FPGA), i.e. plot the number of counts per TDC channel\n",
    "\n",
    "FPGA_0 = df[df['FPGA']==0]\n",
    "FPGA_1 = df[df['FPGA']==1]"
   ]
  },
  {
   "cell_type": "code",
   "execution_count": 16,
   "metadata": {},
   "outputs": [
    {
     "name": "stderr",
     "output_type": "stream",
     "text": [
      "/var/folders/gs/gq30q7ps44jdqztv6g2t9vg00000gn/T/ipykernel_15358/1101634138.py:7: UserWarning: No artists with labels found to put in legend.  Note that artists whose label start with an underscore are ignored when legend() is called with no argument.\n",
      "  plt.legend()\n"
     ]
    },
    {
     "data": {
      "image/png": "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",
      "text/plain": [
       "<Figure size 640x480 with 1 Axes>"
      ]
     },
     "metadata": {},
     "output_type": "display_data"
    }
   ],
   "source": [
    "plt.hist(FPGA_0['TDC_CHANNEL'], alpha=0.5)\n",
    "plt.hist(FPGA_1['TDC_CHANNEL'], alpha=0.5)\n",
    "\n",
    "plt.title('Histogram of TDC_CHANNEL')\n",
    "plt.xlabel('TDC_CHANNEL')\n",
    "plt.ylabel('Count')\n",
    "plt.legend()\n",
    "plt.show()"
   ]
  },
  {
   "cell_type": "code",
   "execution_count": null,
   "metadata": {},
   "outputs": [],
   "source": []
<<<<<<< HEAD
=======
=======
>>>>>>> upstream/main
>>>>>>> main
  }
 ],
 "metadata": {
  "kernelspec": {
<<<<<<< HEAD
   "display_name": "lcp_env",
=======
<<<<<<< HEAD
   "display_name": "lcp_env",
=======
   "display_name": "Python 3 (ipykernel)",
>>>>>>> upstream/main
>>>>>>> main
   "language": "python",
   "name": "python3"
  },
  "language_info": {
   "codemirror_mode": {
    "name": "ipython",
    "version": 3
   },
   "file_extension": ".py",
   "mimetype": "text/x-python",
   "name": "python",
   "nbconvert_exporter": "python",
   "pygments_lexer": "ipython3",
<<<<<<< HEAD
   "version": "3.9.20"
=======
<<<<<<< HEAD
   "version": "3.9.20"
=======
   "version": "3.9.7"
>>>>>>> upstream/main
>>>>>>> main
  }
 },
 "nbformat": 4,
 "nbformat_minor": 2
}
